{
 "cells": [
  {
   "cell_type": "code",
   "execution_count": null,
   "metadata": {
    "id": "0ptP5ry_c_ZY"
   },
   "outputs": [],
   "source": [
    "import numpy as np\n",
    "\n",
    "# how to generate a matrix (change entries and number of rows and columns for desired matrices)\n",
    "M=np.array([\n",
    "    [1,1,4],\n",
    "    [0,2,0],\n",
    "    [1,1,1]\n",
    "])\n",
    "print('Matrix M:', M, sep= '\\n')\n",
    "\n",
    "N=np.array([\n",
    "    [4,0,1],\n",
    "    [-2,3,5],\n",
    "    [1,-1,0]\n",
    "])\n",
    "print('Matrix N:', N, sep= '\\n')\n",
    "\n",
    "# matrix addition and subtraction\n",
    "print('Matrix M+N:', M+N, sep= '\\n'     )\n",
    "\n",
    "# matrix multiplication\n",
    "print('Matrix MN:', M@N, sep= '\\n'     )\n",
    "\n",
    "# calculating determinant and trace\n",
    "def matrix_properties(matrix):\n",
    "    determinant = np.linalg.det(matrix)\n",
    "    trace = np.trace(matrix)\n",
    "    return determinant, trace\n",
    "\n",
    "print('Determinant and Trace of M')\n",
    "det, tr = matrix_properties(M)\n",
    "\n",
    "print('Determinant:', det)\n",
    "print('Trace:', tr)\n",
    "\n",
    "# calcultating eigenvalues and eigenvectors\n",
    "print(np.linalg.eig(M))"
   ]
  }
 ],
 "metadata": {
  "colab": {
   "authorship_tag": "ABX9TyNh1t1irv7nPyM3QBEjXf4a",
   "provenance": []
  },
  "kernelspec": {
   "display_name": ".venv",
   "language": "python",
   "name": "python3"
  },
  "language_info": {
   "codemirror_mode": {
    "name": "ipython",
    "version": 3
   },
   "file_extension": ".py",
   "mimetype": "text/x-python",
   "name": "python",
   "nbconvert_exporter": "python",
   "pygments_lexer": "ipython3",
   "version": "3.12.3"
  }
 },
 "nbformat": 4,
 "nbformat_minor": 0
}
