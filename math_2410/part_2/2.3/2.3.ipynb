{
 "cells": [
  {
   "cell_type": "code",
   "execution_count": null,
   "metadata": {
    "id": "0ptP5ry_c_ZY"
   },
   "outputs": [],
   "source": [
    "import numpy as np\n",
    "\n",
    "# how to generate a matrices of m x n dimensions (amuont of numbers in rows, number of rows)\n",
    "A=np.array([\n",
    "    [0,1,-2],\n",
    "    [-1,0,1] # last row does not need a comma\n",
    "])\n",
    "print(A)\n",
    "\n",
    "B=np.array([\n",
    "    [4,0,1],\n",
    "    [-2,3,5],\n",
    "    [1,-1,0]\n",
    "])\n",
    "print(B)\n",
    "\n",
    "# if doing matrix operatons, remove the \"print\" command from the generate matrix step for clearity\n",
    "\n",
    "# matrix addition and subtraction\n",
    "print(     A+B     )\n",
    "\n",
    "# matrix multiplication\n",
    "print(     A@B     )\n",
    "\n",
    "# calculating determinant and trace\n",
    "def matrix_properties(matrix):\n",
    "    determinant = np.linalg.det(matrix)\n",
    "    trace = np.trace(matrix)\n",
    "    return determinant, trace\n",
    "\n",
    "det, tr = matrix_properties(B)\n",
    "\n",
    "print(f\"Determinant: {det}\")\n",
    "print(f\"Trace: {tr}\")\n",
    "\n",
    "# calcultating eigenvalues and eigenvectors\n",
    "print(np.linalg.eig(A))"
   ]
  }
 ],
 "metadata": {
  "colab": {
   "authorship_tag": "ABX9TyNh1t1irv7nPyM3QBEjXf4a",
   "provenance": []
  },
  "kernelspec": {
   "display_name": ".venv",
   "language": "python",
   "name": "python3"
  },
  "language_info": {
   "codemirror_mode": {
    "name": "ipython",
    "version": 3
   },
   "file_extension": ".py",
   "mimetype": "text/x-python",
   "name": "python",
   "nbconvert_exporter": "python",
   "pygments_lexer": "ipython3",
   "version": "3.12.3"
  }
 },
 "nbformat": 4,
 "nbformat_minor": 0
}
