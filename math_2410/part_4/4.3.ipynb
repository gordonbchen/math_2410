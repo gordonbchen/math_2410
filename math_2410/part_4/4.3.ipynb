{
 "cells": [
  {
   "cell_type": "markdown",
   "id": "130106da",
   "metadata": {},
   "source": [
    "# 4.3"
   ]
  },
  {
   "cell_type": "code",
   "execution_count": 1,
   "id": "3068f6db",
   "metadata": {},
   "outputs": [
    {
     "name": "stdout",
     "output_type": "stream",
     "text": [
      "[1.+2.j 1.-2.j]\n",
      "[[-0.18257419+0.36514837j -0.18257419-0.36514837j]\n",
      " [-0.91287093+0.j         -0.91287093-0.j        ]]\n"
     ]
    }
   ],
   "source": [
    "import numpy as np\n",
    "\n",
    "A = np.array([\n",
    "    [0, 1],\n",
    "    [-5, 2]\n",
    "])\n",
    "\n",
    "eigvals, eigvecs = np.linalg.eig(A)\n",
    "print(eigvals)\n",
    "print(eigvecs)"
   ]
  },
  {
   "cell_type": "code",
   "execution_count": 2,
   "id": "00730ac1",
   "metadata": {},
   "outputs": [
    {
     "data": {
      "text/plain": [
       "array([[1.+0.j, 1.-0.j],\n",
       "       [1.+2.j, 1.-2.j]])"
      ]
     },
     "execution_count": 2,
     "metadata": {},
     "output_type": "execute_result"
    }
   ],
   "source": [
    "rescaled_eigvecs = eigvecs / eigvecs[0]\n",
    "rescaled_eigvecs"
   ]
  },
  {
   "cell_type": "code",
   "execution_count": 3,
   "id": "c65b3e62",
   "metadata": {},
   "outputs": [],
   "source": [
    "my_eigvals = np.array([1+2j, 1-2j])\n",
    "my_eigvecs = np.array([\n",
    "    [1+0j, 1+0j],\n",
    "    [1+2j, 1-2j]\n",
    "])\n",
    "\n",
    "assert np.allclose(eigvals, my_eigvals), \"Eigvals don't match.\"\n",
    "assert np.allclose(rescaled_eigvecs, my_eigvecs), \"Eigvecs don't match.\""
   ]
  }
 ],
 "metadata": {
  "kernelspec": {
   "display_name": ".venv",
   "language": "python",
   "name": "python3"
  },
  "language_info": {
   "codemirror_mode": {
    "name": "ipython",
    "version": 3
   },
   "file_extension": ".py",
   "mimetype": "text/x-python",
   "name": "python",
   "nbconvert_exporter": "python",
   "pygments_lexer": "ipython3",
   "version": "3.12.3"
  }
 },
 "nbformat": 4,
 "nbformat_minor": 5
}
